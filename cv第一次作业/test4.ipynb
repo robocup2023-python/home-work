{
 "cells": [
  {
   "cell_type": "code",
   "execution_count": 28,
   "id": "814219ed",
   "metadata": {
    "scrolled": true
   },
   "outputs": [
    {
     "name": "stdout",
     "output_type": "stream",
     "text": [
      "size=:31\n",
      "sigma=:3\n",
      "路径为：/home/robocup/cv/第一次作业/v2-58537195d3a7ff6e43fe4d4d30ae1ace_1440w.jpg\n"
     ]
    },
    {
     "data": {
      "text/plain": [
       "True"
      ]
     },
     "execution_count": 28,
     "metadata": {},
     "output_type": "execute_result"
    }
   ],
   "source": [
    "import numpy as np\n",
    "import cv2\n",
    "\n",
    "size = int(input(\"size=:\"))\n",
    "sigma = float(input(\"sigma=:\"))\n",
    "kernel = cv2.getGaussianKernel(size, sigma)\n",
    "kernel = np.outer(kernel, kernel)\n",
    "file_path = input(\"路径为：\")\n",
    "image = cv2.imread(file_path)\n",
    "\n",
    "def zero_padding(image, kernel):\n",
    "    pad = kernel.shape[0] // 2\n",
    "    out = np.zeros((image.shape[0] + pad * 2, image.shape[1] + pad * 2, image.shape[2]), dtype=np.uint8)\n",
    "    out[pad:pad + image.shape[0], pad:pad + image.shape[1]] = image.copy().astype(np.float64)\n",
    "    return out\n",
    "\n",
    "def wrap_around(image, kernel):\n",
    "    pad = kernel.shape[0] // 2\n",
    "    array1 = image[:pad, :, :]\n",
    "    array2 = image[-pad:, :, :]\n",
    "    out = np.concatenate([array1, image, array2], axis=0)\n",
    "    array3 = out[:, :pad, :]\n",
    "    array4 = out[:, -pad:, :]\n",
    "    out = np.concatenate([array3, out, array4], axis=1)\n",
    "    return out\n",
    "\n",
    "zero_padding_image = zero_padding(image, kernel)\n",
    "cv2.imwrite('zero_padding_image.jpg', zero_padding_image)\n",
    "wrap_around_image = wrap_around(image, kernel)\n",
    "cv2.imwrite('wrap_around_image.jpg', wrap_around_image)\n",
    "    "
   ]
  },
  {
   "cell_type": "code",
   "execution_count": null,
   "id": "df2f12a7",
   "metadata": {},
   "outputs": [],
   "source": []
  }
 ],
 "metadata": {
  "kernelspec": {
   "display_name": "Python 3 (ipykernel)",
   "language": "python",
   "name": "python3"
  },
  "language_info": {
   "codemirror_mode": {
    "name": "ipython",
    "version": 3
   },
   "file_extension": ".py",
   "mimetype": "text/x-python",
   "name": "python",
   "nbconvert_exporter": "python",
   "pygments_lexer": "ipython3",
   "version": "3.11.5"
  }
 },
 "nbformat": 4,
 "nbformat_minor": 5
}
